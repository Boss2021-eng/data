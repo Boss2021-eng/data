{
  "nbformat": 4,
  "nbformat_minor": 0,
  "metadata": {
    "colab": {
      "provenance": []
    },
    "kernelspec": {
      "name": "python3",
      "display_name": "Python 3"
    },
    "language_info": {
      "name": "python"
    }
  },
  "cells": [
    {
      "cell_type": "code",
      "execution_count": 5,
      "metadata": {
        "colab": {
          "base_uri": "https://localhost:8080/"
        },
        "id": "Y8ad1b9Co4PU",
        "outputId": "e555ab92-8e9f-4c7c-a571-bc560f8e38c3"
      },
      "outputs": [
        {
          "output_type": "stream",
          "name": "stdout",
          "text": [
            "my name is John Doe and I am in Grade 3\n",
            "my name is John Doe and I am in Grade 3\n"
          ]
        }
      ],
      "source": [
        "name = \"Daniel\"\n",
        "school_class = \"Grade 3\"\n",
        "name = \"John Doe\"\n",
        "print(f\"my name is {name} and I am in {school_class}\")\n",
        "print(\"my name is {} and I am in {}\".format(name, school_class))"
      ]
    },
    {
      "cell_type": "code",
      "source": [
        "fruits = [\"Apples\", \"Bananas\", \"Oranges\"]\n",
        "\"-\".join(fruits)"
      ],
      "metadata": {
        "colab": {
          "base_uri": "https://localhost:8080/",
          "height": 36
        },
        "id": "mvePpUcXq7oZ",
        "outputId": "1f5d5271-7cf3-4a0d-855e-c4465061b27f"
      },
      "execution_count": 6,
      "outputs": [
        {
          "output_type": "execute_result",
          "data": {
            "text/plain": [
              "'Apples-Bananas-Oranges'"
            ],
            "application/vnd.google.colaboratory.intrinsic+json": {
              "type": "string"
            }
          },
          "metadata": {},
          "execution_count": 6
        }
      ]
    },
    {
      "cell_type": "code",
      "source": [
        "for fruit in fruits:\n",
        "  if fruit == \"Bananas\":\n",
        "    continue\n",
        "  print(fruit)"
      ],
      "metadata": {
        "colab": {
          "base_uri": "https://localhost:8080/"
        },
        "id": "rZF_9oHos0-4",
        "outputId": "af670ca1-df1d-49d4-dac5-8baceef3c50c"
      },
      "execution_count": 17,
      "outputs": [
        {
          "output_type": "stream",
          "name": "stdout",
          "text": [
            "Apples\n",
            "Oranges\n"
          ]
        }
      ]
    },
    {
      "cell_type": "code",
      "source": [
        "for fruit in fruits:\n",
        "  if \"a\" in fruit:\n",
        "    print(fruit)"
      ],
      "metadata": {
        "colab": {
          "base_uri": "https://localhost:8080/"
        },
        "id": "NHnvXBfRtGEb",
        "outputId": "b47ebcc6-3e7e-4c47-aa52-9180e5995a2b"
      },
      "execution_count": 19,
      "outputs": [
        {
          "output_type": "stream",
          "name": "stdout",
          "text": [
            "Bananas\n",
            "Oranges\n"
          ]
        }
      ]
    },
    {
      "cell_type": "code",
      "source": [
        "name = \"John-Doe\"\n",
        "name.split(\"-\")"
      ],
      "metadata": {
        "colab": {
          "base_uri": "https://localhost:8080/"
        },
        "id": "0Fo6IyXHrXiz",
        "outputId": "3e07695f-22e5-4075-cba5-6b3f6ff81500"
      },
      "execution_count": 8,
      "outputs": [
        {
          "output_type": "execute_result",
          "data": {
            "text/plain": [
              "['John', 'Doe']"
            ]
          },
          "metadata": {},
          "execution_count": 8
        }
      ]
    },
    {
      "cell_type": "code",
      "source": [
        "class_info = {\"James\": 30, \"Henry\": 25, \"Sarah\": 35 }\n",
        "print(class_info[\"James\"])\n",
        "print(class_info.keys())\n",
        "print(class_info.values())\n",
        "print(class_info.items())\n",
        "#for key, value in class_info.items():\n",
        "    #print(f\"{key} is {value} years old\")\n",
        "\n",
        "for name, age in class_info.items():\n",
        "  if(age <= int(30)):\n",
        "    print(f\"{name} is {age} years old\")\n"
      ],
      "metadata": {
        "colab": {
          "base_uri": "https://localhost:8080/"
        },
        "id": "_qapXryMriiM",
        "outputId": "eb860fb9-0410-4d24-f7cc-8125f0fc4bd5"
      },
      "execution_count": 27,
      "outputs": [
        {
          "output_type": "stream",
          "name": "stdout",
          "text": [
            "30\n",
            "dict_keys(['James', 'Henry', 'Sarah'])\n",
            "dict_values([30, 25, 35])\n",
            "dict_items([('James', 30), ('Henry', 25), ('Sarah', 35)])\n",
            "James is 30 years old\n",
            "Henry is 25 years old\n",
            "James 30\n",
            "Henry 25\n",
            "Sarah 35\n"
          ]
        }
      ]
    }
  ]
}