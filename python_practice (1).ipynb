{
  "nbformat": 4,
  "nbformat_minor": 0,
  "metadata": {
    "colab": {
      "provenance": []
    },
    "kernelspec": {
      "name": "python3",
      "display_name": "Python 3"
    },
    "language_info": {
      "name": "python"
    }
  },
  "cells": [
    {
      "cell_type": "code",
      "execution_count": 1,
      "metadata": {
        "colab": {
          "base_uri": "https://localhost:8080/"
        },
        "id": "Y8ad1b9Co4PU",
        "outputId": "3c169825-5f9c-45ee-fa37-6462041a3c1e"
      },
      "outputs": [
        {
          "output_type": "stream",
          "name": "stdout",
          "text": [
            "my name is John Doe and I am in Grade 3\n",
            "my name is John Doe and I am in Grade 3\n"
          ]
        }
      ],
      "source": [
        "name = \"Daniel\"\n",
        "school_class = \"Grade 3\"\n",
        "name = \"John Doe\"\n",
        "print(f\"my name is {name} and I am in {school_class}\")\n",
        "print(\"my name is {} and I am in {}\".format(name, school_class))"
      ]
    },
    {
      "cell_type": "code",
      "source": [
        "fruits = [\"Apples\", \"Bananas\", \"Oranges\"]\n",
        "\"-\".join(fruits)"
      ],
      "metadata": {
        "colab": {
          "base_uri": "https://localhost:8080/",
          "height": 36
        },
        "id": "mvePpUcXq7oZ",
        "outputId": "2360e539-a267-44d4-941c-8dd14bcc0e5a"
      },
      "execution_count": 2,
      "outputs": [
        {
          "output_type": "execute_result",
          "data": {
            "text/plain": [
              "'Apples-Bananas-Oranges'"
            ],
            "application/vnd.google.colaboratory.intrinsic+json": {
              "type": "string"
            }
          },
          "metadata": {},
          "execution_count": 2
        }
      ]
    },
    {
      "cell_type": "code",
      "source": [
        "for fruit in fruits:\n",
        "  if fruit == \"Bananas\":\n",
        "    continue\n",
        "  print(fruit)"
      ],
      "metadata": {
        "colab": {
          "base_uri": "https://localhost:8080/"
        },
        "id": "rZF_9oHos0-4",
        "outputId": "75124e01-1453-40ae-b4ec-f9fe90cc2d6c"
      },
      "execution_count": 3,
      "outputs": [
        {
          "output_type": "stream",
          "name": "stdout",
          "text": [
            "Apples\n",
            "Oranges\n"
          ]
        }
      ]
    },
    {
      "cell_type": "code",
      "source": [
        "for fruit in fruits:\n",
        "  if \"a\" in fruit:\n",
        "    print(fruit)"
      ],
      "metadata": {
        "colab": {
          "base_uri": "https://localhost:8080/"
        },
        "id": "NHnvXBfRtGEb",
        "outputId": "91f1be9a-7f2b-4ff2-ac3b-20a60b9b3050"
      },
      "execution_count": 4,
      "outputs": [
        {
          "output_type": "stream",
          "name": "stdout",
          "text": [
            "Bananas\n",
            "Oranges\n"
          ]
        }
      ]
    },
    {
      "cell_type": "code",
      "source": [
        "name = \"John-Doe\"\n",
        "name.split(\"-\")"
      ],
      "metadata": {
        "colab": {
          "base_uri": "https://localhost:8080/"
        },
        "id": "0Fo6IyXHrXiz",
        "outputId": "a92800d0-911f-4014-c70e-328b8c8c9360"
      },
      "execution_count": 5,
      "outputs": [
        {
          "output_type": "execute_result",
          "data": {
            "text/plain": [
              "['John', 'Doe']"
            ]
          },
          "metadata": {},
          "execution_count": 5
        }
      ]
    },
    {
      "cell_type": "code",
      "source": [
        "class_info = {\"James\": 30, \"Henry\": 25, \"Sarah\": 35 }\n",
        "print(class_info[\"James\"])\n",
        "print(class_info.keys())\n",
        "print(class_info.values())\n",
        "print(class_info.items())\n",
        "#for key, value in class_info.items():\n",
        "    #print(f\"{key} is {value} years old\")\n",
        "\n",
        "for name, age in class_info.items():\n",
        "  if(age <= int(30)):\n",
        "    print(f\"{name} is {age} years old\")\n"
      ],
      "metadata": {
        "colab": {
          "base_uri": "https://localhost:8080/"
        },
        "id": "_qapXryMriiM",
        "outputId": "9d765c0f-1c51-46c9-c428-382522d45ffd"
      },
      "execution_count": 6,
      "outputs": [
        {
          "output_type": "stream",
          "name": "stdout",
          "text": [
            "30\n",
            "dict_keys(['James', 'Henry', 'Sarah'])\n",
            "dict_values([30, 25, 35])\n",
            "dict_items([('James', 30), ('Henry', 25), ('Sarah', 35)])\n",
            "James is 30 years old\n",
            "Henry is 25 years old\n"
          ]
        }
      ]
    },
    {
      "cell_type": "markdown",
      "source": [
        "### EXERCISES"
      ],
      "metadata": {
        "id": "azAPJXGmAK6-"
      }
    },
    {
      "cell_type": "code",
      "source": [
        "# Define data science job roles and required skills\n",
        "job_roles = [\n",
        "    {'role': 'Data Analyst', 'skills': ['Python', 'SQL', 'Excel']},\n",
        "    {'role': 'Data Scientist', 'skills': ['Python', 'R', 'Machine Learning', 'Deep Learning']},\n",
        "    {'role': 'Machine Learning Engineer', 'skills': ['Python', 'TensorFlow', 'PyTorch', 'Scikit-Learn']},\n",
        "    {'role': 'Data Engineer', 'skills': ['Python', 'Apache Spark', 'Hadoop', 'SQL']},\n",
        "    {'role': 'Business Intelligence Analyst', 'skills': ['Python', 'SQL', 'Tableau', 'Power BI', 'Excel']},\n",
        "    {'role': 'Quantitative Analyst', 'skills': ['R', 'Python', 'MATLAB', 'Statistics']},\n",
        "    {'role': 'Operations Analyst', 'skills': ['Python', 'SQL', 'Data Visualization', 'Process Improvement']},\n",
        "    {'role': 'Database Administrator', 'skills': ['SQL', 'Oracle', 'MySQL', 'Database Management']},\n",
        "    {'role': 'AI Engineer', 'skills': ['Python', 'TensorFlow', 'PyTorch', 'Computer Vision']},\n",
        "    {'role': 'Statistician', 'skills': ['R', 'SAS', 'Python', 'Statistical Modeling']}\n",
        "]\n",
        "# My skills\n",
        "my_skills = ['Python', 'SQL', 'Excel']"
      ],
      "metadata": {
        "id": "dsySI8vP-bdw"
      },
      "execution_count": 7,
      "outputs": []
    },
    {
      "cell_type": "code",
      "source": [
        "# Determine which jobs you're qualified for\n",
        "qualified_roles = []\n",
        "\n",
        "for job in job_roles:\n",
        "  # Go through each skill in the skills key\n",
        "  qualified = True\n",
        "\n",
        "  for skill in my_skills:\n",
        "       # Go through each skill in the skills key\n",
        "    if skill not in job['skills']:\n",
        "      qualified = False\n",
        "      break\n",
        "  if qualified:\n",
        "    qualified_roles.append(job['role'])\n",
        "\n",
        "qualified_roles"
      ],
      "metadata": {
        "colab": {
          "base_uri": "https://localhost:8080/"
        },
        "id": "5xKwY0wEAVEt",
        "outputId": "d0acef6e-2bd9-4c4f-9276-1306942fd0cd"
      },
      "execution_count": 8,
      "outputs": [
        {
          "output_type": "execute_result",
          "data": {
            "text/plain": [
              "['Data Analyst', 'Business Intelligence Analyst']"
            ]
          },
          "metadata": {},
          "execution_count": 8
        }
      ]
    },
    {
      "cell_type": "code",
      "source": [
        "qualified_roles = []\n",
        "\n",
        "for job in job_roles:\n",
        "  qualified = all(skill in job['skills'] for skill in my_skills)\n",
        "  if qualified:\n",
        "    qualified_roles.append(job['role'])\n",
        "\n",
        "qualified_roles"
      ],
      "metadata": {
        "colab": {
          "base_uri": "https://localhost:8080/"
        },
        "id": "hpiGmn7tI0jD",
        "outputId": "99dcf89a-1a21-4af4-f8db-36363bb5eae9"
      },
      "execution_count": 9,
      "outputs": [
        {
          "output_type": "execute_result",
          "data": {
            "text/plain": [
              "['Data Analyst', 'Business Intelligence Analyst']"
            ]
          },
          "metadata": {},
          "execution_count": 9
        }
      ]
    },
    {
      "cell_type": "markdown",
      "source": [
        "### List Comprehension Solution"
      ],
      "metadata": {
        "id": "Siib1PceMygB"
      }
    },
    {
      "cell_type": "code",
      "source": [
        "qualified_roles = [job['role'] for job in job_roles if all(skill in job['skills'] for skill in my_skills)]\n",
        "qualified_roles"
      ],
      "metadata": {
        "colab": {
          "base_uri": "https://localhost:8080/"
        },
        "id": "7OkXgN0AM6c_",
        "outputId": "5bc83f44-7c6f-428f-ebb3-1659a91b9e35"
      },
      "execution_count": 10,
      "outputs": [
        {
          "output_type": "execute_result",
          "data": {
            "text/plain": [
              "['Data Analyst', 'Business Intelligence Analyst']"
            ]
          },
          "metadata": {},
          "execution_count": 10
        }
      ]
    },
    {
      "cell_type": "code",
      "source": [
        "[i for i in range(0,20,2) if i>10]"
      ],
      "metadata": {
        "colab": {
          "base_uri": "https://localhost:8080/"
        },
        "id": "vfD7v8fTN8OW",
        "outputId": "028eba22-ae6a-4870-d709-179bcc2b68a3"
      },
      "execution_count": 11,
      "outputs": [
        {
          "output_type": "execute_result",
          "data": {
            "text/plain": [
              "[12, 14, 16, 18]"
            ]
          },
          "metadata": {},
          "execution_count": 11
        }
      ]
    },
    {
      "cell_type": "markdown",
      "source": [
        "### Functions"
      ],
      "metadata": {
        "id": "ogsM-UKr3kKr"
      }
    },
    {
      "cell_type": "code",
      "source": [
        "def add(a,b):\n",
        "    return a+b\n",
        "add(2,3)"
      ],
      "metadata": {
        "colab": {
          "base_uri": "https://localhost:8080/"
        },
        "id": "DXyyDc5B3o73",
        "outputId": "3568869d-1a2c-4ce0-c891-cba044282fed"
      },
      "execution_count": 12,
      "outputs": [
        {
          "output_type": "execute_result",
          "data": {
            "text/plain": [
              "5"
            ]
          },
          "metadata": {},
          "execution_count": 12
        }
      ]
    },
    {
      "cell_type": "code",
      "source": [
        "def square(i):\n",
        "  return i*i\n",
        "\n",
        "def double(i):\n",
        "  return i*2\n",
        "number_list = [ i for i in range(10)]\n",
        "number_list\n",
        "square_number_list = [square(i) for i in number_list]\n",
        "square_number_list\n",
        "\n",
        "double_number_list= map(double, number_list)\n",
        "print(list(double_number_list))"
      ],
      "metadata": {
        "colab": {
          "base_uri": "https://localhost:8080/"
        },
        "id": "Mn_h07hO39wJ",
        "outputId": "608ab980-b6e9-4e87-95c0-d823ea6b23a9"
      },
      "execution_count": 13,
      "outputs": [
        {
          "output_type": "stream",
          "name": "stdout",
          "text": [
            "[0, 2, 4, 6, 8, 10, 12, 14, 16, 18]\n"
          ]
        }
      ]
    },
    {
      "cell_type": "code",
      "source": [
        "# Arguments\n",
        "\n",
        "print(fruits)\n",
        "\n",
        "def food_menu(*args):\n",
        "  for food in args:\n",
        "    print(f\"I ate {food} this morning\")\n",
        "food_menu(*fruits)"
      ],
      "metadata": {
        "colab": {
          "base_uri": "https://localhost:8080/"
        },
        "id": "KG1tCDTM5CvM",
        "outputId": "4ece8363-2460-4705-9da2-b6d1a76ec418"
      },
      "execution_count": 14,
      "outputs": [
        {
          "output_type": "stream",
          "name": "stdout",
          "text": [
            "['Apples', 'Bananas', 'Oranges']\n",
            "I ate Apples this morning\n",
            "I ate Bananas this morning\n",
            "I ate Oranges this morning\n"
          ]
        }
      ]
    },
    {
      "cell_type": "code",
      "source": [
        "food_combo = {\n",
        "    \"rice\": \"beans\",\n",
        "    \"beans\": \"plantains\",\n",
        "    \"yam\":\"eggs\"\n",
        "}\n",
        "\n",
        "def food_menu_new(**kwargs):\n",
        "  for key, value in kwargs.items():\n",
        "    print(f\"I ate {key} and {value} this morning\")\n",
        "\n",
        "food_menu_new(**food_combo)"
      ],
      "metadata": {
        "colab": {
          "base_uri": "https://localhost:8080/"
        },
        "id": "MPP5epc86FTG",
        "outputId": "36b1068c-43e7-45ed-95ed-fea1c7b8fbdd"
      },
      "execution_count": 15,
      "outputs": [
        {
          "output_type": "stream",
          "name": "stdout",
          "text": [
            "I ate rice and beans this morning\n",
            "I ate beans and plantains this morning\n",
            "I ate yam and eggs this morning\n"
          ]
        }
      ]
    },
    {
      "cell_type": "markdown",
      "source": [
        "### LAMBDA FUNCTIONS"
      ],
      "metadata": {
        "id": "egrQj5rr64S7"
      }
    },
    {
      "cell_type": "code",
      "source": [
        "add = lambda x,y: x+y\n",
        "add(2,3)\n",
        "\n",
        "num_double = lambda x: x*2\n",
        "num_double(5)\n",
        "\n",
        "number_list\n",
        "#double_number_list = [num_double(x) for x in number_list]\n",
        "double_number_list = map(num_double, number_list)\n",
        "print(list(double_number_list))\n",
        "#print(list(double_number_list))"
      ],
      "metadata": {
        "colab": {
          "base_uri": "https://localhost:8080/"
        },
        "id": "l_A5zo6B63HU",
        "outputId": "c65b0ba4-0e95-46a4-a70d-f8c3d2732af2"
      },
      "execution_count": 16,
      "outputs": [
        {
          "output_type": "stream",
          "name": "stdout",
          "text": [
            "[0, 2, 4, 6, 8, 10, 12, 14, 16, 18]\n"
          ]
        }
      ]
    },
    {
      "cell_type": "markdown",
      "source": [
        "### MODULES"
      ],
      "metadata": {
        "id": "WGF0-Gy2Ya7c"
      }
    },
    {
      "cell_type": "code",
      "source": [
        "import money_utils\n",
        "print(money_utils.split_bill(3000,5))\n",
        "help(money_utils.split_bill)"
      ],
      "metadata": {
        "colab": {
          "base_uri": "https://localhost:8080/",
          "height": 364
        },
        "id": "Xqv6NpcA8o-D",
        "outputId": "2086fff3-2e06-4850-9a34-7973388ba20d"
      },
      "execution_count": 17,
      "outputs": [
        {
          "output_type": "error",
          "ename": "ModuleNotFoundError",
          "evalue": "No module named 'money_utils'",
          "traceback": [
            "\u001b[0;31m---------------------------------------------------------------------------\u001b[0m",
            "\u001b[0;31mModuleNotFoundError\u001b[0m                       Traceback (most recent call last)",
            "\u001b[0;32m<ipython-input-17-b294a85f80e4>\u001b[0m in \u001b[0;36m<cell line: 1>\u001b[0;34m()\u001b[0m\n\u001b[0;32m----> 1\u001b[0;31m \u001b[0;32mimport\u001b[0m \u001b[0mmoney_utils\u001b[0m\u001b[0;34m\u001b[0m\u001b[0;34m\u001b[0m\u001b[0m\n\u001b[0m\u001b[1;32m      2\u001b[0m \u001b[0mprint\u001b[0m\u001b[0;34m(\u001b[0m\u001b[0mmoney_utils\u001b[0m\u001b[0;34m.\u001b[0m\u001b[0msplit_bill\u001b[0m\u001b[0;34m(\u001b[0m\u001b[0;36m3000\u001b[0m\u001b[0;34m,\u001b[0m\u001b[0;36m5\u001b[0m\u001b[0;34m)\u001b[0m\u001b[0;34m)\u001b[0m\u001b[0;34m\u001b[0m\u001b[0;34m\u001b[0m\u001b[0m\n\u001b[1;32m      3\u001b[0m \u001b[0mhelp\u001b[0m\u001b[0;34m(\u001b[0m\u001b[0mmoney_utils\u001b[0m\u001b[0;34m.\u001b[0m\u001b[0msplit_bill\u001b[0m\u001b[0;34m)\u001b[0m\u001b[0;34m\u001b[0m\u001b[0;34m\u001b[0m\u001b[0m\n",
            "\u001b[0;31mModuleNotFoundError\u001b[0m: No module named 'money_utils'",
            "",
            "\u001b[0;31m---------------------------------------------------------------------------\u001b[0;32m\nNOTE: If your import is failing due to a missing package, you can\nmanually install dependencies using either !pip or !apt.\n\nTo view examples of installing some common dependencies, click the\n\"Open Examples\" button below.\n\u001b[0;31m---------------------------------------------------------------------------\u001b[0m\n"
          ],
          "errorDetails": {
            "actions": [
              {
                "action": "open_url",
                "actionText": "Open Examples",
                "url": "/notebooks/snippets/importing_libraries.ipynb"
              }
            ]
          }
        }
      ]
    }
  ]
}