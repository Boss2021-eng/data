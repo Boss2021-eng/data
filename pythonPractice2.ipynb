{
  "nbformat": 4,
  "nbformat_minor": 0,
  "metadata": {
    "colab": {
      "provenance": []
    },
    "kernelspec": {
      "name": "python3",
      "display_name": "Python 3"
    },
    "language_info": {
      "name": "python"
    }
  },
  "cells": [
    {
      "cell_type": "code",
      "execution_count": 31,
      "metadata": {
        "id": "lFUod7G4G9Iz"
      },
      "outputs": [],
      "source": [
        "data_science_jobs = [\n",
        "    {'job_title': 'Data Scientist', 'job_skills': \"['Python', 'SQL', 'Machine Learning']\", 'job_date': '2023-05-12'},\n",
        "    {'job_title': 'Machine Learning Engineer', 'job_skills': \"['Python', 'TensorFlow', 'Deep Learning']\", 'job_date': '2023-05-15'},\n",
        "    {'job_title': 'Data Analyst', 'job_skills': \"['SQL', 'R', 'Tableau']\", 'job_date': '2023-05-10'},\n",
        "    {'job_title': 'Business Intelligence Developer', 'job_skills': \"['SQL', 'PowerBI', 'Data Warehousing']\", 'job_date': '2023-05-08'},\n",
        "    {'job_title': 'Data Engineer', 'job_skills': \"['Python', 'Spark', 'Hadoop']\", 'job_date': '2023-05-18'},\n",
        "    {'job_title': 'AI Specialist', 'job_skills': \"['Python', 'PyTorch', 'AI Ethics']\", 'job_date': '2023-05-20'}\n",
        "]"
      ]
    },
    {
      "cell_type": "code",
      "source": [
        "print(data_science_jobs)"
      ],
      "metadata": {
        "colab": {
          "base_uri": "https://localhost:8080/"
        },
        "id": "HZXs9euYKcwy",
        "outputId": "474af539-d47f-4131-895d-054a8c12449f"
      },
      "execution_count": 32,
      "outputs": [
        {
          "output_type": "stream",
          "name": "stdout",
          "text": [
            "[{'job_title': 'Data Scientist', 'job_skills': \"['Python', 'SQL', 'Machine Learning']\", 'job_date': '2023-05-12'}, {'job_title': 'Machine Learning Engineer', 'job_skills': \"['Python', 'TensorFlow', 'Deep Learning']\", 'job_date': '2023-05-15'}, {'job_title': 'Data Analyst', 'job_skills': \"['SQL', 'R', 'Tableau']\", 'job_date': '2023-05-10'}, {'job_title': 'Business Intelligence Developer', 'job_skills': \"['SQL', 'PowerBI', 'Data Warehousing']\", 'job_date': '2023-05-08'}, {'job_title': 'Data Engineer', 'job_skills': \"['Python', 'Spark', 'Hadoop']\", 'job_date': '2023-05-18'}, {'job_title': 'AI Specialist', 'job_skills': \"['Python', 'PyTorch', 'AI Ethics']\", 'job_date': '2023-05-20'}]\n"
          ]
        }
      ]
    },
    {
      "cell_type": "code",
      "source": [
        "from datetime import datetime\n",
        "import ast\n",
        "#test_date = data_science_jobs[0]['job_date']\n",
        "#print(test_date)\n",
        "#print(datetime.strptime(test_date, '%Y-%m-%d'))\n",
        "\n",
        "for job in data_science_jobs:\n",
        "  test_date = job['job_date']\n",
        "  test_skill = job['job_skills']\n",
        "  job['job_date'] = datetime.strptime(test_date, '%Y-%m-%d')\n",
        "  job['job_skills'] = ast.literal_eval(test_skill)\n",
        "print(data_science_jobs)"
      ],
      "metadata": {
        "colab": {
          "base_uri": "https://localhost:8080/"
        },
        "id": "SJ7kDBSQLV4F",
        "outputId": "bc8eb110-7b78-46e0-b38a-c8622b3ba074"
      },
      "execution_count": 36,
      "outputs": [
        {
          "output_type": "stream",
          "name": "stdout",
          "text": [
            "[{'job_title': 'Data Scientist', 'job_skills': ['Python', 'SQL', 'Machine Learning'], 'job_date': datetime.datetime(2023, 5, 12, 0, 0)}, {'job_title': 'Machine Learning Engineer', 'job_skills': ['Python', 'TensorFlow', 'Deep Learning'], 'job_date': datetime.datetime(2023, 5, 15, 0, 0)}, {'job_title': 'Data Analyst', 'job_skills': ['SQL', 'R', 'Tableau'], 'job_date': datetime.datetime(2023, 5, 10, 0, 0)}, {'job_title': 'Business Intelligence Developer', 'job_skills': ['SQL', 'PowerBI', 'Data Warehousing'], 'job_date': datetime.datetime(2023, 5, 8, 0, 0)}, {'job_title': 'Data Engineer', 'job_skills': ['Python', 'Spark', 'Hadoop'], 'job_date': datetime.datetime(2023, 5, 18, 0, 0)}, {'job_title': 'AI Specialist', 'job_skills': ['Python', 'PyTorch', 'AI Ethics'], 'job_date': datetime.datetime(2023, 5, 20, 0, 0)}]\n"
          ]
        }
      ]
    },
    {
      "cell_type": "markdown",
      "source": [],
      "metadata": {
        "id": "0iULZHS6SkJQ"
      }
    },
    {
      "cell_type": "markdown",
      "source": [
        "### Class"
      ],
      "metadata": {
        "id": "B05oS4RYSkKZ"
      }
    },
    {
      "cell_type": "code",
      "source": [
        "class LukesList:\n",
        "  def __init__(self):\n",
        "    \"\"\"Initiliaze an empty list \"\"\"\n",
        "    self.items = []\n",
        "\n",
        "\n",
        "  def add_item(self, item):\n",
        "    \"\"\"Add items to a list \"\"\"\n",
        "    return self.items.append(item)\n",
        "\n",
        "  def remove_item(self,item):\n",
        "    \"\"\"Removes items from a list \"\"\"\n",
        "    return self.items.pop(item)\n",
        "\n",
        "  def get_item(self, index):\n",
        "    \"\"\" Returns the items of a given list \"\"\"\n",
        "    return self.items[index]\n",
        "\n",
        "  def length(self):\n",
        "    \"\"\"Returns the length of a list\"\"\"\n",
        "    return len(self.items)"
      ],
      "metadata": {
        "id": "RB0zOg6NS0Ib"
      },
      "execution_count": 52,
      "outputs": []
    },
    {
      "cell_type": "code",
      "source": [
        "my_list = LukesList()\n",
        "my_list.add_item(1)\n",
        "my_list.add_item(2)\n",
        "my_list.add_item(3)\n",
        "print(my_list.items)\n",
        "print(my_list.get_item(1))\n",
        "#print(my_list.length())\n",
        "print(my_list.span)"
      ],
      "metadata": {
        "colab": {
          "base_uri": "https://localhost:8080/"
        },
        "id": "HiNPhyKdVji7",
        "outputId": "6293ccd1-0b91-43eb-f776-46be0e128f4b"
      },
      "execution_count": 51,
      "outputs": [
        {
          "output_type": "stream",
          "name": "stdout",
          "text": [
            "[1, 2, 3]\n",
            "2\n",
            "0\n"
          ]
        }
      ]
    },
    {
      "cell_type": "code",
      "source": [
        "number = 200000\n",
        "print(f\"The number is number:{number: ,.2f}\")"
      ],
      "metadata": {
        "colab": {
          "base_uri": "https://localhost:8080/"
        },
        "id": "1GCR_M3QXM8y",
        "outputId": "97b99498-a0ed-4f02-8a4a-848e95be098c"
      },
      "execution_count": 57,
      "outputs": [
        {
          "output_type": "stream",
          "name": "stdout",
          "text": [
            "The number is number: 200,000.00\n"
          ]
        }
      ]
    }
  ]
}